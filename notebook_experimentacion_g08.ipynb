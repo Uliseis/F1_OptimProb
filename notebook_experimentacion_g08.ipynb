{
 "cells": [
  {
   "cell_type": "markdown",
   "metadata": {
    "scrolled": true
   },
   "source": [
    "# Experimentación con DE propio y algoritmo de biblioteca"
   ]
  },
  {
   "cell_type": "markdown",
   "metadata": {},
   "source": [
    "### Funciones para optimizar"
   ]
  },
  {
   "cell_type": "code",
   "execution_count": 1,
   "metadata": {},
   "outputs": [],
   "source": [
    "import numpy as np\n",
    "\n",
    "def f_wrap(x, func):\n",
    "    if isinstance(x, list):\n",
    "        return func(x),\n",
    "    if isinstance(x, np.ndarray):\n",
    "        if x.ndim == 1:\n",
    "            return func(x)\n",
    "        else:\n",
    "            return np.array([func(x[i]) for i in range(x.shape[0])])\n",
    "    else:\n",
    "        return func(x),"
   ]
  },
  {
   "cell_type": "markdown",
   "metadata": {},
   "source": [
    "#### 1. Sphere function"
   ]
  },
  {
   "cell_type": "code",
   "execution_count": 2,
   "metadata": {},
   "outputs": [],
   "source": [
    "def _sphere(x):\n",
    "    return np.sum(np.power(x, 2))\n",
    "\n",
    "def sphere(x):\n",
    "    return f_wrap(x, _sphere)"
   ]
  },
  {
   "cell_type": "markdown",
   "metadata": {},
   "source": [
    "#### 2. Ackley function"
   ]
  },
  {
   "cell_type": "code",
   "execution_count": 3,
   "metadata": {},
   "outputs": [],
   "source": [
    "def _ackley(x):\n",
    "    dim = len(x)\n",
    "    sum1 = 0.0\n",
    "    sum2 = 0.0\n",
    "\n",
    "    for n in range(0, dim):\n",
    "        z = np.abs(x[n])\n",
    "        sum1 += pow(z, 2)\n",
    "        sum2 += np.cos(2 * np.pi * z)\n",
    "\n",
    "    return -20 * np.exp(-0.2 * np.sqrt(sum1 / dim)) - np.exp(sum2 / dim) + 20 + np.e\n",
    "\n",
    "def ackley(x):\n",
    "    return f_wrap(x, _ackley)"
   ]
  },
  {
   "cell_type": "markdown",
   "metadata": {},
   "source": [
    "#### 3. Rosenbronck function"
   ]
  },
  {
   "cell_type": "code",
   "execution_count": 4,
   "metadata": {},
   "outputs": [],
   "source": [
    "def _rosenbrock(x):\n",
    "    F = 0.0\n",
    "    z = [abs(x[n] + 1) for n in range(len(x))]\n",
    "\n",
    "    for n in range(0, len(x) - 1):\n",
    "        F += 100 * (pow((pow(z[n], 2) - z[n + 1]), 2)) + pow((z[n] - 1), 2)\n",
    "\n",
    "    return F\n",
    "\n",
    "def rosenbrock(x):\n",
    "    return f_wrap(x, _rosenbrock)"
   ]
  },
  {
   "cell_type": "markdown",
   "metadata": {},
   "source": [
    "#### 4. Rastrigin function"
   ]
  },
  {
   "cell_type": "code",
   "execution_count": 5,
   "metadata": {},
   "outputs": [],
   "source": [
    "def _rastrigin(x):\n",
    "    F = 0.0\n",
    "    for n in range(0, len(x)):\n",
    "        z = x[n]\n",
    "        F += (pow(z, 2) - 10 * np.cos(2 * np.pi * z) + 10)\n",
    "\n",
    "    return F\n",
    "\n",
    "def rastrigin(x):\n",
    "    return f_wrap(x, _rastrigin)"
   ]
  },
  {
   "cell_type": "markdown",
   "metadata": {},
   "source": [
    "#### 5. Griewank function "
   ]
  },
  {
   "cell_type": "code",
   "execution_count": 6,
   "metadata": {},
   "outputs": [],
   "source": [
    "def _griewank(x):\n",
    "    F1 = 0.0\n",
    "    F2 = 0.0\n",
    "\n",
    "    for n in range(0, len(x)):\n",
    "        z = abs(x[n])\n",
    "        F1 += (pow(z, 2) / 4000)\n",
    "        F2 *= (np.cos(z / np.sqrt(n + 1)))\n",
    "\n",
    "    return F1 - F2 + 1\n",
    "\n",
    "def griewank(x):\n",
    "    return f_wrap(x, _griewank)"
   ]
  },
  {
   "cell_type": "markdown",
   "metadata": {},
   "source": [
    "#### 6. Schwefel 2.21 problem"
   ]
  },
  {
   "cell_type": "code",
   "execution_count": 7,
   "metadata": {},
   "outputs": [],
   "source": [
    "def _schwefel_2_21(x):\n",
    "    F = abs(x[0])\n",
    "\n",
    "    for n in range(1, len(x)):\n",
    "        z = x[n]\n",
    "        F = max(F, abs(z))\n",
    "\n",
    "    return F\n",
    "\n",
    "def schwefel_2_21(x):\n",
    "    return f_wrap(x, _schwefel_2_21)"
   ]
  },
  {
   "cell_type": "markdown",
   "metadata": {},
   "source": [
    "#### 7. Schwefel 2.22 problem"
   ]
  },
  {
   "cell_type": "code",
   "execution_count": 8,
   "metadata": {},
   "outputs": [],
   "source": [
    "def _schwefel_2_22(x):\n",
    "    sum_ = 0.0\n",
    "    prod = 1.0\n",
    "\n",
    "    for n in range(0, len(x)):\n",
    "        val = abs(x[n])    \n",
    "        sum_ += val\n",
    "        prod *= val\n",
    "\n",
    "    return sum_ + prod\n",
    "\n",
    "def schwefel_2_22(x):\n",
    "    return f_wrap(x, _schwefel_2_22)"
   ]
  },
  {
   "cell_type": "markdown",
   "metadata": {},
   "source": [
    "#### 8. Schwefel 1.2 problem "
   ]
  },
  {
   "cell_type": "code",
   "execution_count": 9,
   "metadata": {},
   "outputs": [],
   "source": [
    "def _schwefel_1_2(x):\n",
    "    sum_ = 0.0\n",
    "    val  = 0.0\n",
    "\n",
    "    for n in range(0, len(x)):\n",
    "        val  += x[n]\n",
    "        sum_ += val * val\n",
    "\n",
    "    return sum_\n",
    "\n",
    "def schwefel_1_2(x):\n",
    "    return f_wrap(x, _schwefel_1_2)"
   ]
  },
  {
   "cell_type": "markdown",
   "metadata": {},
   "source": [
    "#### 9. Extended f10 function "
   ]
  },
  {
   "cell_type": "code",
   "execution_count": 10,
   "metadata": {},
   "outputs": [],
   "source": [
    "def f_10(x, y):\n",
    "    p = (x*x + y*y)\n",
    "    z = pow(p, 0.25)\n",
    "    t = np.sin(50.0 * pow(p, 0.1))\n",
    "    t = t*t + 1.0\n",
    "\n",
    "    return z*t\n",
    "\n",
    "def _extended_f_10(x):\n",
    "    sum_ = f_10(x[len(x)-1], x[0])\n",
    "\n",
    "    for n in range(0, len(x)-1):\n",
    "        sum_ += f_10(x[n], x[n+1])\n",
    "\n",
    "    return sum_\n",
    "\n",
    "def extended_f_10(x):\n",
    "    return f_wrap(x, _extended_f_10)"
   ]
  },
  {
   "cell_type": "markdown",
   "metadata": {},
   "source": [
    "#### 10. Bohachevsky function "
   ]
  },
  {
   "cell_type": "code",
   "execution_count": 11,
   "metadata": {},
   "outputs": [],
   "source": [
    "def _bohachevsky(x):\n",
    "    sum_ = 0.0\n",
    "    currentGen = x[0]\n",
    "\n",
    "    for n in range(1, len(x)):\n",
    "        nextGen = x[n]\n",
    "        sum_ += currentGen * currentGen + 2.0 * nextGen * nextGen\n",
    "        sum_ += -0.3 * np.cos (3.0 * np.pi * currentGen) - 0.4 * np.cos (4.0 * np.pi * nextGen) + 0.7\n",
    "        currentGen = nextGen\n",
    "\n",
    "    return sum_\n",
    "\n",
    "def bohachevsky(x):\n",
    "    return f_wrap(x, _bohachevsky)"
   ]
  },
  {
   "cell_type": "markdown",
   "metadata": {},
   "source": [
    "#### 11. Schaffer function "
   ]
  },
  {
   "cell_type": "code",
   "execution_count": 12,
   "metadata": {},
   "outputs": [],
   "source": [
    "def _schaffer(x):\n",
    "    sum_ = 0.0\n",
    "    currentGen = x[0]\n",
    "    currentGen = currentGen * currentGen\n",
    "\n",
    "    for n in range(1, len(x)):\n",
    "        nextGen = x[n]\n",
    "        nextGen = nextGen * nextGen\n",
    "        aux = currentGen + nextGen\n",
    "        currentGen = nextGen\n",
    "        aux2  = np.sin(50.0 * pow(aux, 0.1))\n",
    "        sum_ += pow(aux, 0.25) * (aux2 * aux2 + 1.0)\n",
    "\n",
    "    return sum_\n",
    "\n",
    "def schaffer(x):\n",
    "    return f_wrap(x, _schaffer)"
   ]
  },
  {
   "cell_type": "markdown",
   "metadata": {},
   "source": [
    "Creamos una lista con todas las funciones para iterar sobre ella"
   ]
  },
  {
   "cell_type": "code",
   "execution_count": 13,
   "metadata": {},
   "outputs": [],
   "source": [
    "funciones = [sphere, ackley, rosenbrock, rastrigin, griewank, schwefel_2_21,\n",
    "             schwefel_2_22, schwefel_1_2, extended_f_10, bohachevsky, schaffer]"
   ]
  },
  {
   "cell_type": "markdown",
   "metadata": {},
   "source": [
    "Establecemos el tamaño de la población, el área de búsqueda y el número de iteraciones"
   ]
  },
  {
   "cell_type": "code",
   "execution_count": 14,
   "metadata": {},
   "outputs": [],
   "source": [
    "populationSize = 50\n",
    "limites = [(-10, 10)] * 5\n",
    "nIter = 2500"
   ]
  },
  {
   "cell_type": "markdown",
   "metadata": {},
   "source": [
    "Ahora ejecutamos todas las funciones, 12 veces cada una, con nuestra implementación de DE."
   ]
  },
  {
   "cell_type": "code",
   "execution_count": 15,
   "metadata": {},
   "outputs": [],
   "source": [
    "from group08.EA import EA\n",
    "\n",
    "resultadosDE = {}\n",
    "for fun in funciones:\n",
    "    listaFitness = list()\n",
    "    for i in range(12):\n",
    "        ea = EA(fun, limites, populationSize)\n",
    "        ea.run(nIter)\n",
    "        listaFitness.append(ea.best().fitness[0])\n",
    "    resultadosDE[fun.__name__] = listaFitness"
   ]
  },
  {
   "cell_type": "markdown",
   "metadata": {},
   "source": [
    "Mostramos los mejores fitness obtenidos para cada iteracion de cada función con nuestra implementación."
   ]
  },
  {
   "cell_type": "code",
   "execution_count": 16,
   "metadata": {},
   "outputs": [
    {
     "name": "stdout",
     "output_type": "stream",
     "text": [
      "{  'ackley': [  0.5546173831818142,\n",
      "                4.688058385937666e-09,\n",
      "                2.2846251259700523e-06,\n",
      "                0.1967083005823267,\n",
      "                0.005055513209925255,\n",
      "                1.0132783501148879e-11,\n",
      "                1.4589604551140667e-06,\n",
      "                0.047470863456098744,\n",
      "                0.01523084819187348,\n",
      "                1.8886655878404537,\n",
      "                8.182010624580016e-10,\n",
      "                6.572964394990777e-12],\n",
      "   'bohachevsky': [  0.41811944040177024,\n",
      "                     1.4603901429310464e-27,\n",
      "                     3.362020735140758e-07,\n",
      "                     0.16630190932754316,\n",
      "                     0.41297565495184585,\n",
      "                     0.4173656679290842,\n",
      "                     1.519365477699274e-08,\n",
      "                     1.0776469500645793e-24,\n",
      "                     0.05105367159676404,\n",
      "                     2.8750970577223777e-07,\n",
      "                     1.3679179557792914e-05,\n",
      "                     0.011290359275328673],\n",
      "   'extended_f_10': [  4.503872991552142,\n",
      "                       0.8119827662343954,\n",
      "                       1.6856800885715773,\n",
      "                       3.2927077966765745,\n",
      "                       7.75383701678621,\n",
      "                       5.345539600205372,\n",
      "                       0.48459427838128954,\n",
      "                       1.98125318502821,\n",
      "                       0.19952592716733905,\n",
      "                       7.970612486085237,\n",
      "                       1.8125466326280948,\n",
      "                       2.492676902264111],\n",
      "   'griewank': [  1.0000015900283188,\n",
      "                  1.0000000667576556,\n",
      "                  1.0000000000049958,\n",
      "                  1.0000047686206888,\n",
      "                  1.0000012807373575,\n",
      "                  1.0000000000000149,\n",
      "                  1.0,\n",
      "                  1.0000000117095518,\n",
      "                  1.0000000000002736,\n",
      "                  1.0000467303250988,\n",
      "                  1.0004078886803833,\n",
      "                  1.0],\n",
      "   'rastrigin': [  10.187823566736045,\n",
      "                   9.24066141498625,\n",
      "                   11.229884069691012,\n",
      "                   4.823484527447664,\n",
      "                   10.767850733602224,\n",
      "                   16.866583131288117,\n",
      "                   7.253414843511843,\n",
      "                   26.523635150083454,\n",
      "                   3.7222694457694523,\n",
      "                   15.428432243443629,\n",
      "                   8.985759265670065,\n",
      "                   12.235921197224982],\n",
      "   'rosenbrock': [  121.72201950400992,\n",
      "                    43.38136615043017,\n",
      "                    31.06304764452014,\n",
      "                    13.556618394261772,\n",
      "                    2.0320656920614914e-15,\n",
      "                    29.511865302837634,\n",
      "                    1.7027322224823844,\n",
      "                    20.625899825104746,\n",
      "                    12.611972274652448,\n",
      "                    44.750082032376454,\n",
      "                    62.43662107018594,\n",
      "                    0.022305080591068782],\n",
      "   'schaffer': [  2.453484907679837,\n",
      "                  1.1963533987141564,\n",
      "                  2.991876586875123,\n",
      "                  3.9625090031496555,\n",
      "                  6.120006016750226,\n",
      "                  3.635355354238932,\n",
      "                  0.4743043512502999,\n",
      "                  1.308955765816287,\n",
      "                  2.701528276275089,\n",
      "                  1.1194705046002313,\n",
      "                  2.635709883078994,\n",
      "                  1.2778427470351381],\n",
      "   'schwefel_1_2': [  0.2855104938769328,\n",
      "                      0.583949590310153,\n",
      "                      1.0746330292919732e-13,\n",
      "                      3.0213500644425135,\n",
      "                      2.166021202314485e-16,\n",
      "                      3.9917594090228935e-07,\n",
      "                      35.51815121392078,\n",
      "                      6.687094532395664e-19,\n",
      "                      1.3561157183344807e-23,\n",
      "                      0.03274565128210552,\n",
      "                      5.2825110769126395e-73,\n",
      "                      5.872587748789067],\n",
      "   'schwefel_2_21': [  0.10783579648544508,\n",
      "                       0.002853912885765207,\n",
      "                       1.7756568280615228e-06,\n",
      "                       3.400559067522871e-21,\n",
      "                       0.6673739339762346,\n",
      "                       8.302201226955878e-10,\n",
      "                       3.081646310554289,\n",
      "                       7.851223807935613e-08,\n",
      "                       1.4694711805460248,\n",
      "                       0.003918852231571214,\n",
      "                       9.595635176285577e-12,\n",
      "                       6.882146911422091e-10],\n",
      "   'schwefel_2_22': [  2.7150214037356186e-06,\n",
      "                       0.0010860436772505277,\n",
      "                       0.6462870558748497,\n",
      "                       1.83545838802054e-05,\n",
      "                       0.1351031390033931,\n",
      "                       0.07181214224839794,\n",
      "                       0.07920506476782069,\n",
      "                       7.550004061458639e-05,\n",
      "                       1.574440008967387e-08,\n",
      "                       7.983516602103322e-05,\n",
      "                       2.716719940698886e-09,\n",
      "                       2.403092915373537e-12],\n",
      "   'sphere': [  7.249892303186511e-07,\n",
      "                4.501332422702826,\n",
      "                1.5805553431381376e-05,\n",
      "                5.8272291910002084e-05,\n",
      "                1.1606229655881219e-08,\n",
      "                1.2743527844154575e-25,\n",
      "                3.120969407799953e-36,\n",
      "                0.622997554533443,\n",
      "                0.32950679845531355,\n",
      "                9.530897784328576e-10,\n",
      "                2.5596665100199523e-18,\n",
      "                1.6211758735026323]}\n"
     ]
    }
   ],
   "source": [
    "import pprint\n",
    "\n",
    "pp = pprint.PrettyPrinter(indent=3)\n",
    "pp.pprint(resultadosDE)"
   ]
  },
  {
   "cell_type": "markdown",
   "metadata": {},
   "source": [
    "Creamos el GA con la implementación de la biblioteca DEAP."
   ]
  },
  {
   "cell_type": "code",
   "execution_count": 17,
   "metadata": {},
   "outputs": [],
   "source": [
    "import numpy\n",
    "import random\n",
    "\n",
    "from deap import algorithms\n",
    "from deap import base\n",
    "from deap import creator\n",
    "from deap import tools\n",
    "\n",
    "creator.create(\"FitnessBenchmark\"   , base.Fitness, weights=(-1.0,))\n",
    "creator.create(\"IndividualBenchmark\", list, fitness=creator.FitnessBenchmark)\n",
    "\n",
    "def checkBounds(min, max):\n",
    "    def decorator(func):\n",
    "        def wrapper(*args, **kargs):\n",
    "            offspring = func(*args, **kargs)\n",
    "            for child in offspring:\n",
    "                for i in range(len(child)):\n",
    "                    if child[i] > max:\n",
    "                        child[i] = max\n",
    "                    elif child[i] < min:\n",
    "                        child[i] = min\n",
    "            return offspring\n",
    "        return wrapper\n",
    "    return decorator\n",
    "\n",
    "def runGA(bounds, probsize, popsize, func, iters, reps):\n",
    "    toolbox = base.Toolbox()\n",
    "\n",
    "    toolbox.register(\"attr_bool\", random.uniform, bounds[0], bounds[1])\n",
    "\n",
    "    toolbox.register(\"individual\", tools.initRepeat, creator.IndividualBenchmark, toolbox.attr_bool, probsize)\n",
    "    toolbox.register(\"population\", tools.initRepeat, list, toolbox.individual)\n",
    "\n",
    "    toolbox.register(\"evaluate\", func)\n",
    "    toolbox.register(\"select\"  , tools.selTournament, tournsize=2)\n",
    "    toolbox.register(\"mate\"    , tools.cxUniform, indpb = 0.6)\n",
    "    toolbox.register(\"mutate\"  , tools.mutGaussian, mu=0, sigma=1, indpb=0.2)\n",
    "\n",
    "    toolbox.decorate(\"mate\"  , checkBounds(bounds[0], bounds[1]))\n",
    "    toolbox.decorate(\"mutate\", checkBounds(bounds[0], bounds[1]))\n",
    "\n",
    "    pop = toolbox.population(n=50)\n",
    "    hof = tools.HallOfFame(1)\n",
    "\n",
    "    results = []\n",
    "\n",
    "    for i in range(reps):\n",
    "        _, _ = algorithms.eaSimple(pop, toolbox, cxpb=0.5, mutpb=0.2, ngen=iters, \n",
    "                                        halloffame=hof, verbose=False)\n",
    "        results.append(hof[0].fitness.values[0])\n",
    "\n",
    "    return results"
   ]
  },
  {
   "cell_type": "markdown",
   "metadata": {},
   "source": [
    "Ahora ejecutamos el GA de biblioteca y recogemos los resultados"
   ]
  },
  {
   "cell_type": "code",
   "execution_count": 18,
   "metadata": {},
   "outputs": [
    {
     "name": "stdout",
     "output_type": "stream",
     "text": [
      "{  'ackley': [  0.005594560701805751,\n",
      "                0.0021882263934149826,\n",
      "                0.0021882263934149826,\n",
      "                0.0008626620459968315,\n",
      "                0.0008626620459968315,\n",
      "                0.0007475530269762665,\n",
      "                0.0007106098752278633,\n",
      "                0.0007106098752278633,\n",
      "                0.0006990105240025635,\n",
      "                0.0006990105240025635,\n",
      "                0.0005016978063392408,\n",
      "                0.0005016978063392408],\n",
      "   'bohachevsky': [  0.00013678997878064267,\n",
      "                     6.574703505802039e-05,\n",
      "                     4.9227842014972645e-06,\n",
      "                     1.7129166223483276e-06,\n",
      "                     8.224372289710766e-07,\n",
      "                     8.224372289710766e-07,\n",
      "                     8.224372289710766e-07,\n",
      "                     8.224372289710766e-07,\n",
      "                     8.224372289710766e-07,\n",
      "                     4.955873197274412e-07,\n",
      "                     4.955873197274412e-07,\n",
      "                     4.955873197274412e-07],\n",
      "   'extended_f_10': [  0.3150097213271583,\n",
      "                       0.23910703582549406,\n",
      "                       0.13676489467307285,\n",
      "                       0.10758568706846992,\n",
      "                       0.10137395047354131,\n",
      "                       0.09468265444257426,\n",
      "                       0.08177353262617296,\n",
      "                       0.08177353262617296,\n",
      "                       0.08177353262617296,\n",
      "                       0.08177353262617296,\n",
      "                       0.08028841836568001,\n",
      "                       0.08028841836568001],\n",
      "   'griewank': [  1.0000000007081034,\n",
      "                  1.0000000003013405,\n",
      "                  1.0000000001195413,\n",
      "                  1.000000000099495,\n",
      "                  1.0000000000325195,\n",
      "                  1.000000000027874,\n",
      "                  1.0000000000157516,\n",
      "                  1.0000000000063396,\n",
      "                  1.0000000000063396,\n",
      "                  1.0000000000063396,\n",
      "                  1.0000000000063396,\n",
      "                  1.0000000000063396],\n",
      "   'rastrigin': [  0.0022124888192767145,\n",
      "                   0.00012920152511597394,\n",
      "                   1.612866646638622e-05,\n",
      "                   7.451779682199344e-06,\n",
      "                   7.451779682199344e-06,\n",
      "                   7.451779682199344e-06,\n",
      "                   7.451779682199344e-06,\n",
      "                   7.451779682199344e-06,\n",
      "                   7.451779682199344e-06,\n",
      "                   7.451779682199344e-06,\n",
      "                   7.451779682199344e-06,\n",
      "                   7.451779682199344e-06],\n",
      "   'rosenbrock': [  1.6455346560474386,\n",
      "                    1.6424709126440111,\n",
      "                    1.6406139150966415,\n",
      "                    1.6402981857078243,\n",
      "                    1.6392610996039605,\n",
      "                    1.6382977863772827,\n",
      "                    1.63714825891354,\n",
      "                    1.635623433239385,\n",
      "                    1.6351300885715692,\n",
      "                    1.6351300885715692,\n",
      "                    1.6317660310449515,\n",
      "                    1.629166793945544],\n",
      "   'schaffer': [  0.2015490343796614,\n",
      "                  0.17656188258832142,\n",
      "                  0.16315379821428883,\n",
      "                  0.13637259043289304,\n",
      "                  0.1325000431697622,\n",
      "                  0.13234525071122422,\n",
      "                  0.13057757519239926,\n",
      "                  0.128365680928683,\n",
      "                  0.128365680928683,\n",
      "                  0.128365680928683,\n",
      "                  0.128365680928683,\n",
      "                  0.128365680928683],\n",
      "   'schwefel_1_2': [  0.0009732870067969152,\n",
      "                      0.0003422629583875604,\n",
      "                      0.00012807355733996257,\n",
      "                      7.771556886170736e-05,\n",
      "                      6.211888593609493e-05,\n",
      "                      4.6076607879112393e-05,\n",
      "                      2.2016229422721815e-05,\n",
      "                      1.8421125353667396e-05,\n",
      "                      1.7660375811197043e-05,\n",
      "                      1.7660375811197043e-05,\n",
      "                      1.7660375811197043e-05,\n",
      "                      1.749824974936535e-05],\n",
      "   'schwefel_2_21': [  0.0015959811583118842,\n",
      "                       0.0014884035537374384,\n",
      "                       0.001007862769705492,\n",
      "                       0.0007592619177917842,\n",
      "                       0.0005855216791726891,\n",
      "                       0.0005855216791726891,\n",
      "                       0.0005855216791726891,\n",
      "                       0.0005855216791726891,\n",
      "                       0.0003758851576003714,\n",
      "                       0.0003758851576003714,\n",
      "                       0.0003758851576003714,\n",
      "                       0.0003758851576003714],\n",
      "   'schwefel_2_22': [  0.002668736405486282,\n",
      "                       0.0014765729311588926,\n",
      "                       0.0011446702716834522,\n",
      "                       0.0011446702716834522,\n",
      "                       0.0009867107871826953,\n",
      "                       0.000741990115105023,\n",
      "                       0.000741990115105023,\n",
      "                       0.0005060032254667357,\n",
      "                       0.0003118491341852389,\n",
      "                       0.00025744278426452537,\n",
      "                       0.00021415497174947866,\n",
      "                       0.00021415497174947866],\n",
      "   'sphere': [  8.850280101489476e-06,\n",
      "                7.487637186928626e-07,\n",
      "                6.54659340112812e-08,\n",
      "                6.54659340112812e-08,\n",
      "                6.54659340112812e-08,\n",
      "                5.4563266026352395e-08,\n",
      "                5.4563266026352395e-08,\n",
      "                5.4563266026352395e-08,\n",
      "                5.4563266026352395e-08,\n",
      "                5.4563266026352395e-08,\n",
      "                5.4563266026352395e-08,\n",
      "                5.4563266026352395e-08]}\n"
     ]
    }
   ],
   "source": [
    "import pprint\n",
    "\n",
    "resultadosGA = {}\n",
    "\n",
    "for fun in funciones:\n",
    "    resultadosGA[fun.__name__] = runGA((-10, 10), 5, populationSize, fun, nIter, 12)\n",
    "\n",
    "pp = pprint.PrettyPrinter(indent=3)\n",
    "pp.pprint(resultadosGA)"
   ]
  },
  {
   "cell_type": "markdown",
   "metadata": {},
   "source": [
    "### Test de Kruskal-Wallis "
   ]
  },
  {
   "cell_type": "code",
   "execution_count": 20,
   "metadata": {},
   "outputs": [
    {
     "name": "stdout",
     "output_type": "stream",
     "text": [
      "Resultados para la funcion sphere: 0.5585265083750712\n",
      "Resultados para la funcion ackley: 0.953909622979785\n",
      "Resultados para la funcion rosenbrock: 0.00557329035654035\n",
      "Resultados para la funcion rastrigin: 1.9564826413811862e-05\n",
      "Resultados para la funcion griewank: 0.4864256838554636\n",
      "Resultados para la funcion schwefel_2_21: 1.0\n",
      "Resultados para la funcion schwefel_2_22: 0.3552971056772516\n",
      "Resultados para la funcion schwefel_1_2: 1.0\n",
      "Resultados para la funcion extended_f_10: 5.096629552848974e-05\n",
      "Resultados para la funcion bohachevsky: 0.5616541332837179\n",
      "Resultados para la funcion schaffer: 2.9783654851730272e-05\n"
     ]
    }
   ],
   "source": [
    "from scipy.stats import kruskal\n",
    "\n",
    "for fun in funciones:\n",
    "    f = fun.__name__\n",
    "    res = kruskal(resultadosDE[f], resultadosGA[f])\n",
    "    print(\"Resultados para la funcion \"+f+\": \"+str(res.pvalue))"
   ]
  },
  {
   "cell_type": "markdown",
   "metadata": {},
   "source": [
    "Ahora calculamos las medias de cada función para cada algoritmo."
   ]
  },
  {
   "cell_type": "code",
   "execution_count": 21,
   "metadata": {},
   "outputs": [],
   "source": [
    "resultadosMedia = {}\n",
    "\n",
    "resultadosMedia[\"DEpropio\"] = []\n",
    "resultadosMedia[\"GAbiblioteca\"] = []\n",
    "\n",
    "for fun in funciones:\n",
    "    f = fun.__name__\n",
    "    resultadosMedia[\"DEpropio\"].append(np.mean(resultadosGA[f]))\n",
    "    resultadosMedia[\"GAbiblioteca\"].append(np.mean(resultadosDE[f]))"
   ]
  },
  {
   "cell_type": "code",
   "execution_count": 22,
   "metadata": {},
   "outputs": [
    {
     "name": "stdout",
     "output_type": "stream",
     "text": [
      "{  'DEpropio': [  8.481153737000539e-07,\n",
      "                  0.0013555439182287483,\n",
      "                  1.637536770813643,\n",
      "                  0.00020207375233323907,\n",
      "                  1.0000000001113605,\n",
      "                  0.0007247613955532368,\n",
      "                  0.0008674121654016898,\n",
      "                  0.00014503760976339157,\n",
      "                  0.1235162425871969,\n",
      "                  1.789763856387887e-05,\n",
      "                  0.14290738161099714],\n",
      "   'GAbiblioteca': [  0.5895906220490089,\n",
      "                      0.2256460204642532,\n",
      "                      31.782044125121057,\n",
      "                      11.438809965787895,\n",
      "                      1.0000385280720283,\n",
      "                      0.44442515353136886,\n",
      "                      0.07780582240392955,\n",
      "                      3.776191263483133,\n",
      "                      3.1945691392983786,\n",
      "                      0.12309341846394399,\n",
      "                      2.489783066288664]}\n"
     ]
    }
   ],
   "source": [
    "import pprint\n",
    "\n",
    "pp = pprint.PrettyPrinter(indent=3)\n",
    "pp.pprint(resultadosMedia)"
   ]
  },
  {
   "cell_type": "markdown",
   "metadata": {},
   "source": [
    "### Test de Wilcoxon"
   ]
  },
  {
   "cell_type": "code",
   "execution_count": 23,
   "metadata": {},
   "outputs": [
    {
     "name": "stdout",
     "output_type": "stream",
     "text": [
      "pvalor: 0.0009765625\n"
     ]
    }
   ],
   "source": [
    "from scipy.stats import wilcoxon\n",
    "\n",
    "a, p = wilcoxon(resultadosMedia[\"DEpropio\"], resultadosMedia[\"GAbiblioteca\"])\n",
    "print(\"pvalor: \" + str(p))"
   ]
  }
 ],
 "metadata": {
  "kernelspec": {
   "display_name": "Python 3",
   "language": "python",
   "name": "python3"
  },
  "language_info": {
   "codemirror_mode": {
    "name": "ipython",
    "version": 3
   },
   "file_extension": ".py",
   "mimetype": "text/x-python",
   "name": "python",
   "nbconvert_exporter": "python",
   "pygments_lexer": "ipython3",
   "version": "3.8.3"
  }
 },
 "nbformat": 4,
 "nbformat_minor": 4
}
