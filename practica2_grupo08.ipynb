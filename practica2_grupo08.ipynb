{
 "cells": [
  {
   "cell_type": "markdown",
   "metadata": {},
   "source": [
    "# Formulación de un problema de optimización"
   ]
  },
  {
   "cell_type": "markdown",
   "metadata": {},
   "source": [
    "Para esta segunda parte hemos decidido implementar un problema de optimización que busca obtener la vuelta más rapida de clasificación de la Formula 1. Para ellos hemos tenido en cuenta algunos parametros del pilote y del coche. \n",
    "\n",
    "El circuito escogido para las pruebas es el de Bahrain, el cual hemos dividido en sectores. Para cada sector hemos cogido su longitud, velocidad media de ese sector y el tipo de sector ( curva o recta ). Todos los datos recogidos son tomados con la mayor precisión, la distancia real ( en metros ) y las velocidades medias ( en km/h) de los pilotos en ese orden. "
   ]
  },
  {
   "cell_type": "code",
   "execution_count": 1,
   "metadata": {},
   "outputs": [],
   "source": [
    "circuit =  [(1100,333.134,'s'), ( 94.53, 100, 't') , (72.38,193.121,'t'), (132.12,225.308,'t'),(491.22,278.417,'s'),\n",
    "            (151.97,152.888,'t'),(183.74,229.33,'s'),(116.64,225.308,'t'),(123.55,249.448,'t'),(181.68,270.37,'s'),\n",
    "            (69.69,112.654,'t'),(339.00,211.628,'s'),(103.32,120.701,'t'),(655.09,255.08,'s'),(313.49,209.215,'t'),\n",
    "            (214.69,280.026,'t'),(236.00,211.88,'t'),(713.44,257.495,'s'),(110.87,162.554,'t')]"
   ]
  },
  {
   "cell_type": "markdown",
   "metadata": {},
   "source": [
    "La función objetivo calcula el tiempo de vuelta para los parametros (\"attributes\"). Los parametros que se reciben son:\n",
    "    \n",
    "    -driver_tyres_treatment:\n",
    "    Se corresponde con la capacidad de piloto de cuidar sus ruedas. Los valores que puede tomar son de 0.00 a 10.00. Un mejor cuidado de las ruedas sopone una perdida de velocidad (entre 0.00/+2.00%) a lo largo de la vuelta pero una menor probabilidad de cometer un error (\"fail_p\", entre un 0.00/+10 %)\n",
    "    \n",
    "    -driver_agro:\n",
    "    Se corresponde con la agresividad del piloto. Los valores que puede tomar son de 0.00 a 10.00. Un piloto más agresivo irá más rapido (entre un 0.00 y un 1.00%) pero se arriesgará a cometer más errores (\"fail_p\", entre un 0.00/+2.00%) o chocar (\"crash_p\", entre un 0.00/+2.00%).\n",
    "    \n",
    "    -driver_experience:\n",
    "    Se corresponde con la experiencia del piloto. Los valores que puede tomar son de 0.00 a 10.00. Un piloto más experimentado cometerá menos errores (\"fail_p\", entre el -1.00/+4.00% ) pero por ende irá más lento  o chocar (\"crash_p\",entre un -0.25/+2.00%).\n",
    "\n",
    "    -car_motor:\n",
    "    Se corresponde con la potencia del motor. Los valores que puede tomar son de 0.00 a 10.00. Un coche con un motor más potente correrá más (entre un 0.00/+4.00%) en las rectas, pero pesará más haciendolo más lento en general (entre un 0.00/+1.00%).\n",
    "\n",
    "    -car_aerodynamic_load:\n",
    "    Se corresponde con la carga aerodinámica del coche. Los valores que puede tomar son de 0.00 a 10.00. Un coche con una mejor carga aerodinámica irá más rápido en curvas (entre un 0.00/+4.00%) pero más lento en rectas (entre un 0.00/+2.00%).\n",
    "\n",
    "    -car_reliability:\n",
    "    Se corresponde con la fiabilidad del coche. Los valores que pueden tomar son de 0.00 a 10.00. Un coche con una mayor fiabilidad será más lento (entre un 0.00/+1.00%) pero menos propenso a sufrir fallos (\"fail_p\", entre un -1.00/+1.00) y posibles choques (\"crash_p\", entre un -0.25/+0.25).\n",
    "\n",
    "        \n",
    "        \n",
    "        \n",
    "        \n",
    " Finalmente, calculamos los porcentajes que aplicarán a las velocidades de los sectores (\"bonus_global\"\"bonus_turns\",\"bonus_straight\", \"fail_p\", \"crash_p\"). Seguidamente recorremos el circuito sector a sector. Si     el sector es un recta se multpilica su velocidad media por la media de los \"bonus_global\" y \"bonus_straight\". Si el sector es   una cruva se multiplica su velocidad media por la media de los \"bonus_global\" y \"bonus_turns\". Una vez recalculado las           velocidades se calcula el tiempo que se tarda en atravesar dicho sector. Además en cada sector hay la posibilidad de cometer     un fallo o chocar. En caso de cometer un fallo se penalizaria con 1.5 segudos en el sector. En caso de chocar no será posible   completar la vuelta por lo que el tiempo global será infinito.\n",
    "    "
   ]
  },
  {
   "cell_type": "code",
   "execution_count": 2,
   "metadata": {},
   "outputs": [],
   "source": [
    "import random\n",
    "\n",
    "def fitness_func(attributes):\n",
    "    bonus_turns = 100\n",
    "    bonus_straight = 100\n",
    "    bonus_global = 100\n",
    "    fail_p = 0\n",
    "    crash_p = 0\n",
    "    \n",
    "    time_global = 0.00\n",
    "    \n",
    "    driver_tyres_treatment = attributes[0] / 10.00\n",
    "    driver_agro = attributes [1] / 10.00\n",
    "    driver_experience = attributes [2] / 10.00\n",
    "    car_motor = attributes[3] / 10.00\n",
    "    car_aerodynamic_load = attributes[4] / 10.00\n",
    "    car_reliability = attributes[5] / 10.00\n",
    "        \n",
    "    #tyres_treatment balance\n",
    "    bonus_global += -driver_tyres_treatment * 2.00\n",
    "    fail_p += (10.00 - driver_tyres_treatment*10.00) \n",
    "    \n",
    "    #agro balance\n",
    "    bonus_global += driver_agro * 1.00 + ( -1.00 )\n",
    "    fail_p += driver_agro * 10.00\n",
    "    crash_p += driver_agro * 2.00\n",
    "    \n",
    "    #experience balance\n",
    "    bonus_global += -driver_experience* 2.00\n",
    "    fail_p += 4.00 - driver_experience * 5.00\n",
    "    crash_p += 0.25 - driver_experience * 2.25\n",
    "    \n",
    "    #reliability balance\n",
    "    bonus_global += -car_reliability\n",
    "    fail_p += car_reliability * 2.00 + ( -1.00 )\n",
    "    crash_p += car_reliability * 0.50 + ( -0.25 )\n",
    "    \n",
    "    #motor balance\n",
    "    bonus_global += - car_motor*1.00 \n",
    "    bonus_straight += car_motor * 4.00 - ( 4.00 ) \n",
    "    \n",
    "    #aerodynamic_load balance\n",
    "    bonus_straight += - car_aerodynamic_load*2.00 \n",
    "    bonus_turns += car_aerodynamic_load *4.00 - (4.00)\n",
    "    \n",
    "    for sector in circuit:\n",
    "        m_per_seg = sector[1] * 1000/3600\n",
    "        time_sector = 0\n",
    "        \n",
    "        if (sector[2] == 's'):\n",
    "            m_per_seg *= ((bonus_global + bonus_straight)/2) / 100\n",
    "            time_sector += sector[0] / m_per_seg\n",
    "        else:\n",
    "            m_per_seg *= ((bonus_global + bonus_turns)/2) / 100\n",
    "            time_sector += sector[0] / m_per_seg\n",
    "        \n",
    "        if random.random() < fail_p / 100:\n",
    "            time_sector += 1.5 \n",
    "        if random.random() < crash_p / 100:\n",
    "            time_global = float(\"+inf\")\n",
    "            return time_global\n",
    "        \n",
    "        \n",
    "        time_global += time_sector\n",
    "        \n",
    "    return time_global\n",
    "     \n",
    "   "
   ]
  },
  {
   "cell_type": "markdown",
   "metadata": {},
   "source": [
    "Ahora ejecutamos un DE de biblioteca con nuestra función objetivo y un tamaño de población de 50 y 10.000 iteraciones."
   ]
  },
  {
   "cell_type": "code",
   "execution_count": 3,
   "metadata": {},
   "outputs": [],
   "source": [
    "from scipy.optimize import differential_evolution\n",
    "\n",
    "limites = [(0.00,10.00)]*6\n",
    "time = differential_evolution(fitness_func,limites, popsize=50, polish=False, maxiter=10000)"
   ]
  },
  {
   "cell_type": "code",
   "execution_count": 4,
   "metadata": {},
   "outputs": [
    {
     "name": "stdout",
     "output_type": "stream",
     "text": [
      "Cuidado de neumaticos: 0.6443105277198846\n",
      "Agresividad piloto: 5.0380723322174426\n",
      "Experiencia piloto: 1.2923464525757957\n",
      "Motor: 8.989042282150265\n",
      "Carga aerodinamica: 2.765185484601621\n",
      "Fiabilidad: 1.7052964527251975\n",
      "------------------------------\n",
      "Tiempo de vuelta: 0:01:24.106872\n"
     ]
    }
   ],
   "source": [
    "import datetime\n",
    "print(\"Cuidado de neumaticos: \" +str(time.x[0]))\n",
    "print(\"Agresividad piloto: \" +str(time.x[1]))\n",
    "print(\"Experiencia piloto: \" +str(time.x[2]))\n",
    "print(\"Motor: \" +str(time.x[3]))\n",
    "print(\"Carga aerodinamica: \" +str(time.x[4]))\n",
    "print(\"Fiabilidad: \" +str(time.x[5]))\n",
    "print(\"------------------------------\")\n",
    "print(\"Tiempo de vuelta: \"+str(datetime.timedelta(seconds=time.fun)))\n"
   ]
  },
  {
   "cell_type": "markdown",
   "metadata": {},
   "source": [
    "Como podemos ver, en el circuito de Bahrain el motor es bastante importante debido a sus largas rectas. Además no se necesita mucha carga aerodinámica. La fiabilidad y el cuidado de los neumáticos no son muy necesarios para poder hacer la vuelta más rápida.\n",
    "En cuanto al piloto lo mejor es que no sea muy agresivo ni muy conservador.\n",
    "El tiempo obtenido es muy bueno, por lo tanto ya sabemos la configuración adecuada para batir la vuelta rápida de Pedro De La Rosa."
   ]
  }
 ],
 "metadata": {
  "kernelspec": {
   "display_name": "Python 3",
   "language": "python",
   "name": "python3"
  },
  "language_info": {
   "codemirror_mode": {
    "name": "ipython",
    "version": 3
   },
   "file_extension": ".py",
   "mimetype": "text/x-python",
   "name": "python",
   "nbconvert_exporter": "python",
   "pygments_lexer": "ipython3",
   "version": "3.8.3"
  }
 },
 "nbformat": 4,
 "nbformat_minor": 4
}
